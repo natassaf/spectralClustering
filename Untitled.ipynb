{
 "cells": [
  {
   "cell_type": "code",
   "execution_count": 1,
   "id": "826271e7-4906-4744-8619-0912906645f1",
   "metadata": {},
   "outputs": [],
   "source": [
    "import numpy as np\n",
    "import networkx as nx\n",
    "import scipy\n",
    "from networkx import DiGraph\n",
    "import scipy.linalg as la\n",
    "from sklearn.cluster import KMeans\n",
    "import matplotlib.pyplot as plt"
   ]
  },
  {
   "cell_type": "code",
   "execution_count": 2,
   "id": "28da3837-0e81-4f8a-a013-617f93d3ca62",
   "metadata": {},
   "outputs": [],
   "source": [
    "def loadGraph(path):\n",
    "    if path == \"data/example1.dat\":\n",
    "        G = nx.read_edgelist(path, delimiter=\",\", create_using=DiGraph)\n",
    "    elif  path == \"data/example2.dat\":\n",
    "        G = nx.read_weighted_edgelist(path, delimiter=\",\", create_using=DiGraph)\n",
    "    else: \n",
    "        raise NameError(\"can't fine the correct data.\")\n",
    "    return G\n",
    "    "
   ]
  },
  {
   "cell_type": "markdown",
   "id": "d46a6570-6a69-470e-bc49-069984f001df",
   "metadata": {},
   "source": [
    "### Load Graph"
   ]
  },
  {
   "cell_type": "code",
   "execution_count": 3,
   "id": "d1b581f4-90cd-4453-82f3-e4f914f1c6aa",
   "metadata": {},
   "outputs": [
    {
     "data": {
      "image/png": "[encoded data removed]",
      "text/plain": [
       "<Figure size 640x480 with 1 Axes>"
      ]
     },
     "metadata": {},
     "output_type": "display_data"
    }
   ],
   "source": [
    "path = \"data/example1.dat\"\n",
    "graph = loadGraph(path)\n",
    "nx.draw(graph)"
   ]
  },
  {
   "cell_type": "markdown",
   "id": "8a4abc07-a8f7-44af-bc45-843d5602342f",
   "metadata": {},
   "source": [
    "### Transform adjacency matrix to get better clusters"
   ]
  },
  {
   "cell_type": "code",
   "execution_count": 25,
   "id": "62639770-aeaf-4cc2-aace-8df564984fee",
   "metadata": {},
   "outputs": [
    {
     "data": {
      "text/plain": [
       "(241, 4)"
      ]
     },
     "execution_count": 25,
     "metadata": {},
     "output_type": "execute_result"
    }
   ],
   "source": [
    "\n",
    "def transform_similarity_matrix(A, k):\n",
    "    D = np.diag(np.sum(A, axis=1))\n",
    "    D_inv = np.linalg.inv(np.sqrt(D))\n",
    "    L = np.dot(np.dot(D_inv, A), D_inv)\n",
    "    \n",
    "    # # Calculate eigenvalues and eigenvectors\n",
    "    eigenvalues, eigenvectors = scipy.linalg.eigh(L)\n",
    "    \n",
    "    X = eigenvectors[:, -k:] \n",
    "    norm = np.linalg.norm(X)\n",
    "    Y = X / norm\n",
    "    return Y\n",
    "\n",
    "k = 4\n",
    "sim_matrix = np.asarray(nx.adjacency_matrix(graph).todense())\n",
    "Y = transform_similarity_matrix(sim_matrix, k)\n",
    "np.shape(Y)"
   ]
  },
  {
   "cell_type": "markdown",
   "id": "81e615b6-a9d9-44be-98ff-1b9331c41337",
   "metadata": {},
   "source": [
    "### Run KMeans on Y"
   ]
  },
  {
   "cell_type": "code",
   "execution_count": 26,
   "id": "44fb6c74-ab15-4085-966f-6d79c5a73a68",
   "metadata": {},
   "outputs": [
    {
     "name": "stderr",
     "output_type": "stream",
     "text": [
      "/Users/athanasiapharmake/Desktop/workspace/MSC/data-mining/HW4/venv/lib/python3.11/site-packages/sklearn/cluster/_kmeans.py:1416: FutureWarning: The default value of `n_init` will change from 10 to 'auto' in 1.4. Set the value of `n_init` explicitly to suppress the warning\n",
      "  super()._check_params_vs_input(X, default_n_init=10)\n"
     ]
    }
   ],
   "source": [
    "kmeans_model = KMeans(n_clusters=k, random_state=1)\n",
    "kmeans_model.fit(Y)\n",
    "cluster_labels = kmeans_model.labels_"
   ]
  },
  {
   "cell_type": "code",
   "execution_count": 31,
   "id": "5056d07d-0c64-4156-ac09-c86d77ea75f8",
   "metadata": {},
   "outputs": [],
   "source": [
    "def retrieve_clusters(nodes, cluster_labels):\n",
    "    clusters = {}\n",
    "    for (i, cluster) in enumerate(cluster_labels):\n",
    "        try:\n",
    "            clusters[cluster].append(nodes[i])\n",
    "        except:\n",
    "            clusters[cluster] = [nodes[i]]\n",
    "    return clusters\n",
    "nodes = list(graph.nodes)  \n",
    "clusters_to_nodes_map = retrieve_clusters(nodes, cluster_labels)"
   ]
  },
  {
   "cell_type": "code",
   "execution_count": 30,
   "id": "5dee5bb4-8a12-440f-a21a-4ddec2f325e1",
   "metadata": {},
   "outputs": [
    {
     "name": "stdout",
     "output_type": "stream",
     "text": [
      "Num points on cluster 0: 117\n",
      "Num points on cluster 1: 48\n",
      "Num points on cluster 2: 41\n",
      "Num points on cluster 3: 35\n"
     ]
    }
   ],
   "source": [
    "for k, v in clusters_to_nodes_map.items():\n",
    "    print(f\"Num points on cluster {k}: {len(v)}\")"
   ]
  },
  {
   "cell_type": "code",
   "execution_count": null,
   "id": "a14cb885-531d-44e6-8f38-afb9ab0919ff",
   "metadata": {},
   "outputs": [],
   "source": []
  },
  {
   "cell_type": "code",
   "execution_count": null,
   "id": "b64d6f96-6ea2-4357-8c46-b8c84aa7502e",
   "metadata": {},
   "outputs": [],
   "source": []
  }
 ],
 "metadata": {
  "kernelspec": {
   "display_name": "Python 3 (ipykernel)",
   "language": "python",
   "name": "python3"
  },
  "language_info": {
   "codemirror_mode": {
    "name": "ipython",
    "version": 3
   },
   "file_extension": ".py",
   "mimetype": "text/x-python",
   "name": "python",
   "nbconvert_exporter": "python",
   "pygments_lexer": "ipython3",
   "version": "3.11.6"
  }
 },
 "nbformat": 4,
 "nbformat_minor": 5
}
